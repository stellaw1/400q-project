{
 "cells": [
  {
   "cell_type": "code",
   "execution_count": null,
   "metadata": {},
   "outputs": [],
   "source": [
    "import pennylane as qml\n",
    "from pennylane import numpy as np\n",
    "import matplotlib.pyplot as plt"
   ]
  },
  {
   "cell_type": "code",
   "execution_count": null,
   "metadata": {},
   "outputs": [],
   "source": []
  },
  {
   "cell_type": "code",
   "execution_count": null,
   "metadata": {},
   "outputs": [],
   "source": [
    "h = 0\n",
    "g = 0\n",
    "\n",
    "i = 1\n",
    "n = 4\n",
    "\n",
    "coeffs = [-1, -h, -g]\n",
    "ops = [qml.PauliZ(i - 1) @ qml.PauliX(i) @ qml.PauliZ(i + 1), qml.PauliX(i), qml.PauliX(i - 1) @ qml.PauliX(i) @ qml.PauliX(i + 1)]\n",
    "\n",
    "H = qml.Hamiltonian(coeffs, ops)"
   ]
  }
 ],
 "metadata": {
  "language_info": {
   "name": "python"
  },
  "orig_nbformat": 4
 },
 "nbformat": 4,
 "nbformat_minor": 2
}
