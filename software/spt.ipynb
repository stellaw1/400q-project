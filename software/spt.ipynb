{
 "cells": [
  {
   "cell_type": "code",
   "execution_count": 10,
   "metadata": {},
   "outputs": [],
   "source": [
    "import pennylane as qml\n",
    "from pennylane import numpy as np\n",
    "import matplotlib.pyplot as plt"
   ]
  },
  {
   "cell_type": "code",
   "execution_count": 13,
   "metadata": {},
   "outputs": [
    {
     "name": "stdout",
     "output_type": "stream",
     "text": [
      "-2.0\n"
     ]
    },
    {
     "ename": "ValueError",
     "evalue": "At least one argument must be a QNodeCollection",
     "output_type": "error",
     "traceback": [
      "\u001b[0;31m---------------------------------------------------------------------------\u001b[0m",
      "\u001b[0;31mValueError\u001b[0m                                Traceback (most recent call last)",
      "Cell \u001b[0;32mIn[13], line 28\u001b[0m\n\u001b[1;32m     25\u001b[0m step \u001b[39m=\u001b[39m np\u001b[39m.\u001b[39mpi \u001b[39m/\u001b[39m \u001b[39m80\u001b[39m\n\u001b[1;32m     27\u001b[0m \u001b[39mwhile\u001b[39;00m h \u001b[39m<\u001b[39m np\u001b[39m.\u001b[39mpi \u001b[39m/\u001b[39m \u001b[39m2\u001b[39m:\n\u001b[0;32m---> 28\u001b[0m        \u001b[39mprint\u001b[39m(diagnose_phase_transition(h, g))\n\u001b[1;32m     29\u001b[0m        h \u001b[39m+\u001b[39m\u001b[39m=\u001b[39m  step\n",
      "File \u001b[0;32m~/opt/miniconda3/envs/cpen400q/lib/python3.11/site-packages/pennylane/qnode.py:800\u001b[0m, in \u001b[0;36mQNode.__call__\u001b[0;34m(self, *args, **kwargs)\u001b[0m\n\u001b[1;32m    797\u001b[0m         set_shots(\u001b[39mself\u001b[39m\u001b[39m.\u001b[39m_original_device, override_shots)(\u001b[39mself\u001b[39m\u001b[39m.\u001b[39m_update_gradient_fn)()\n\u001b[1;32m    799\u001b[0m \u001b[39m# construct the tape\u001b[39;00m\n\u001b[0;32m--> 800\u001b[0m \u001b[39mself\u001b[39;49m\u001b[39m.\u001b[39;49mconstruct(args, kwargs)\n\u001b[1;32m    802\u001b[0m cache \u001b[39m=\u001b[39m \u001b[39mself\u001b[39m\u001b[39m.\u001b[39mexecute_kwargs\u001b[39m.\u001b[39mget(\u001b[39m\"\u001b[39m\u001b[39mcache\u001b[39m\u001b[39m\"\u001b[39m, \u001b[39mFalse\u001b[39;00m)\n\u001b[1;32m    803\u001b[0m using_custom_cache \u001b[39m=\u001b[39m (\n\u001b[1;32m    804\u001b[0m     \u001b[39mhasattr\u001b[39m(cache, \u001b[39m\"\u001b[39m\u001b[39m__getitem__\u001b[39m\u001b[39m\"\u001b[39m)\n\u001b[1;32m    805\u001b[0m     \u001b[39mand\u001b[39;00m \u001b[39mhasattr\u001b[39m(cache, \u001b[39m\"\u001b[39m\u001b[39m__setitem__\u001b[39m\u001b[39m\"\u001b[39m)\n\u001b[1;32m    806\u001b[0m     \u001b[39mand\u001b[39;00m \u001b[39mhasattr\u001b[39m(cache, \u001b[39m\"\u001b[39m\u001b[39m__delitem__\u001b[39m\u001b[39m\"\u001b[39m)\n\u001b[1;32m    807\u001b[0m )\n",
      "File \u001b[0;32m~/opt/miniconda3/envs/cpen400q/lib/python3.11/site-packages/pennylane/qnode.py:711\u001b[0m, in \u001b[0;36mQNode.construct\u001b[0;34m(self, args, kwargs)\u001b[0m\n\u001b[1;32m    708\u001b[0m \u001b[39mdef\u001b[39;00m \u001b[39mconstruct\u001b[39m(\u001b[39mself\u001b[39m, args, kwargs):\n\u001b[1;32m    709\u001b[0m \u001b[39m    \u001b[39m\u001b[39m\"\"\"Call the quantum function with a tape context, ensuring the operations get queued.\"\"\"\u001b[39;00m\n\u001b[0;32m--> 711\u001b[0m     \u001b[39mself\u001b[39m\u001b[39m.\u001b[39m_tape \u001b[39m=\u001b[39m make_qscript(\u001b[39mself\u001b[39;49m\u001b[39m.\u001b[39;49mfunc)(\u001b[39m*\u001b[39;49margs, \u001b[39m*\u001b[39;49m\u001b[39m*\u001b[39;49mkwargs)\n\u001b[1;32m    712\u001b[0m     \u001b[39mself\u001b[39m\u001b[39m.\u001b[39m_tape\u001b[39m.\u001b[39m_queue_category \u001b[39m=\u001b[39m \u001b[39m\"\u001b[39m\u001b[39m_ops\u001b[39m\u001b[39m\"\u001b[39m\n\u001b[1;32m    713\u001b[0m     \u001b[39mself\u001b[39m\u001b[39m.\u001b[39m_qfunc_output \u001b[39m=\u001b[39m \u001b[39mself\u001b[39m\u001b[39m.\u001b[39mtape\u001b[39m.\u001b[39m_qfunc_output\n",
      "File \u001b[0;32m~/opt/miniconda3/envs/cpen400q/lib/python3.11/site-packages/pennylane/tape/qscript.py:1346\u001b[0m, in \u001b[0;36mmake_qscript.<locals>.wrapper\u001b[0;34m(*args, **kwargs)\u001b[0m\n\u001b[1;32m   1344\u001b[0m \u001b[39mdef\u001b[39;00m \u001b[39mwrapper\u001b[39m(\u001b[39m*\u001b[39margs, \u001b[39m*\u001b[39m\u001b[39m*\u001b[39mkwargs):\n\u001b[1;32m   1345\u001b[0m     \u001b[39mwith\u001b[39;00m AnnotatedQueue() \u001b[39mas\u001b[39;00m q:\n\u001b[0;32m-> 1346\u001b[0m         result \u001b[39m=\u001b[39m fn(\u001b[39m*\u001b[39;49margs, \u001b[39m*\u001b[39;49m\u001b[39m*\u001b[39;49mkwargs)\n\u001b[1;32m   1348\u001b[0m     qscript \u001b[39m=\u001b[39m QuantumScript\u001b[39m.\u001b[39mfrom_queue(q)\n\u001b[1;32m   1349\u001b[0m     qscript\u001b[39m.\u001b[39m_qfunc_output \u001b[39m=\u001b[39m result\n",
      "Cell \u001b[0;32mIn[13], line 19\u001b[0m, in \u001b[0;36mdiagnose_phase_transition\u001b[0;34m(h, g)\u001b[0m\n\u001b[1;32m     17\u001b[0m coeff \u001b[39m=\u001b[39m [\u001b[39m1\u001b[39m, \u001b[39m1\u001b[39m, \u001b[39m1\u001b[39m, \u001b[39m1\u001b[39m]\n\u001b[1;32m     18\u001b[0m ops \u001b[39m=\u001b[39m [qml\u001b[39m.\u001b[39mPauliZ(\u001b[39m0\u001b[39m), qml\u001b[39m.\u001b[39mPauliY(\u001b[39m1\u001b[39m), qml\u001b[39m.\u001b[39mPauliY(\u001b[39m2\u001b[39m), qml\u001b[39m.\u001b[39mPauliZ(\u001b[39m3\u001b[39m)]\n\u001b[0;32m---> 19\u001b[0m O \u001b[39m=\u001b[39m qml\u001b[39m.\u001b[39;49mdot(coeff, ops)\n\u001b[1;32m     20\u001b[0m \u001b[39mreturn\u001b[39;00m qml\u001b[39m.\u001b[39mexpval(O)\n",
      "File \u001b[0;32m~/opt/miniconda3/envs/cpen400q/lib/python3.11/site-packages/pennylane/collections/dot.py:146\u001b[0m, in \u001b[0;36mdot\u001b[0;34m(x, y)\u001b[0m\n\u001b[1;32m    143\u001b[0m     func \u001b[39m=\u001b[39m \u001b[39mlambda\u001b[39;00m params, \u001b[39m*\u001b[39m\u001b[39m*\u001b[39mkwargs: fn(x, y(params, \u001b[39m*\u001b[39m\u001b[39m*\u001b[39mkwargs))\n\u001b[1;32m    145\u001b[0m \u001b[39melse\u001b[39;00m:\n\u001b[0;32m--> 146\u001b[0m     \u001b[39mraise\u001b[39;00m \u001b[39mValueError\u001b[39;00m(\u001b[39m\"\u001b[39m\u001b[39mAt least one argument must be a QNodeCollection\u001b[39m\u001b[39m\"\u001b[39m)\n\u001b[1;32m    148\u001b[0m func\u001b[39m.\u001b[39minterface \u001b[39m=\u001b[39m interface\n\u001b[1;32m    149\u001b[0m \u001b[39mreturn\u001b[39;00m func\n",
      "\u001b[0;31mValueError\u001b[0m: At least one argument must be a QNodeCollection"
     ]
    }
   ],
   "source": [
    "N = 4\n",
    "dev = qml.device('default.qubit', wires=N)\n",
    "\n",
    "@qml.qnode(dev)\n",
    "def diagnose_phase_transition(h, g):\n",
    "       # Construct Hamiltonian\n",
    "       coeffs = [-1, -1, -h, -h, -h, -h, -g, -g]\n",
    "       ops = [qml.PauliZ(0) @ qml.PauliX(1) @ qml.PauliZ(2), qml.PauliZ(1) @ qml.PauliX(2) @ qml.PauliZ(3), \n",
    "              qml.PauliX(0), qml.PauliX(1), qml.PauliX(2), qml.PauliX(3), \n",
    "              qml.PauliX(0) @ qml.PauliX(1) @ qml.PauliX(2), qml.PauliX(1) @ qml.PauliX(2) @ qml.PauliX(3)]\n",
    "\n",
    "       H = qml.Hamiltonian(coeffs, ops)\n",
    "       print(min(qml.eigvals(H)))\n",
    "       # return qml.expval(H)\n",
    "\n",
    "       # string order parameter\n",
    "       coeff = [1, 1, 1, 1]\n",
    "       ops = [qml.PauliZ(0), qml.PauliY(1), qml.PauliY(2), qml.PauliZ(3)]\n",
    "       O = qml.dot(coeff, ops)\n",
    "       return qml.expval(O)\n",
    "\n",
    "diagnose_phase_transition(0, 0)\n",
    "\n",
    "# h = 0\n",
    "# g = 0\n",
    "# step = np.pi / 80\n",
    "\n",
    "# while h < np.pi / 2:\n",
    "#        print(diagnose_phase_transition(h, g))\n",
    "#        h +=  step\n"
   ]
  },
  {
   "cell_type": "code",
   "execution_count": 20,
   "metadata": {},
   "outputs": [
    {
     "data": {
      "text/plain": [
       "tensor(0., requires_grad=True)"
      ]
     },
     "execution_count": 20,
     "metadata": {},
     "output_type": "execute_result"
    }
   ],
   "source": [
    "dev = qml.device('default.qubit', wires=N)\n",
    "  \n",
    "@qml.qnode(dev)\n",
    "def diagnose_phase_transition():\n",
    "    # string order parameter\n",
    "    O = qml.prod(qml.PauliZ(0), qml.PauliY(1), qml.PauliY(2), qml.PauliZ(3))\n",
    "    \n",
    "    return qml.expval(O)\n",
    "\n",
    "diagnose_phase_transition()\n"
   ]
  },
  {
   "cell_type": "code",
   "execution_count": null,
   "metadata": {},
   "outputs": [],
   "source": []
  }
 ],
 "metadata": {
  "kernelspec": {
   "display_name": "cpen400q",
   "language": "python",
   "name": "python3"
  },
  "language_info": {
   "codemirror_mode": {
    "name": "ipython",
    "version": 3
   },
   "file_extension": ".py",
   "mimetype": "text/x-python",
   "name": "python",
   "nbconvert_exporter": "python",
   "pygments_lexer": "ipython3",
   "version": "3.11.0"
  },
  "orig_nbformat": 4
 },
 "nbformat": 4,
 "nbformat_minor": 2
}
