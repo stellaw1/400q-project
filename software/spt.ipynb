{
 "cells": [
  {
   "cell_type": "code",
   "execution_count": 8,
   "metadata": {},
   "outputs": [],
   "source": [
    "import pennylane as qml\n",
    "from pennylane import numpy as np\n",
    "import matplotlib.pyplot as plt"
   ]
  },
  {
   "cell_type": "code",
   "execution_count": 9,
   "metadata": {},
   "outputs": [],
   "source": [
    "\n",
    "g = 0\n",
    "step = np.pi / 80\n",
    "\n",
    "i = 1 # ?\n",
    "N = 4\n",
    "\n",
    "for h in range(0, np.pi / 2, step):\n",
    "    coeffs = [-1, -h, -g]\n",
    "    ops = [qml.PauliZ(i - 1) @ qml.PauliX(i) @ qml.PauliZ(i + 1), qml.PauliX(i), qml.PauliX(i - 1) @ qml.PauliX(i) @ qml.PauliX(i + 1)]\n",
    "\n",
    "    H = qml.Hamiltonian(coeffs, ops)\n",
    "    # print(H)\n",
    "    print(qml.eigvals(H))\n",
    "\n"
   ]
  },
  {
   "cell_type": "code",
   "execution_count": 10,
   "metadata": {},
   "outputs": [
    {
     "name": "stdout",
     "output_type": "stream",
     "text": [
      "  (0) [X1]\n",
      "+ (-1) [Z0 X1 Z2]\n",
      "+ (0) [X0 X1 X2]\n"
     ]
    }
   ],
   "source": [
    "print(H)"
   ]
  },
  {
   "cell_type": "code",
   "execution_count": 11,
   "metadata": {},
   "outputs": [
    {
     "name": "stderr",
     "output_type": "stream",
     "text": [
      "/Users/stellaw/opt/miniconda3/envs/cpen400q/lib/python3.11/site-packages/pennylane/ops/functions/eigvals.py:108: UserWarning: For Hamiltonians, the eigenvalues will be computed numerically. This may be computationally intensive for a large number of wires.Consider using a sparse representation of the Hamiltonian with qml.SparseHamiltonian.\n",
      "  warnings.warn(\n"
     ]
    },
    {
     "data": {
      "text/plain": [
       "array([-1., -1., -1., -1.,  1.,  1.,  1.,  1.])"
      ]
     },
     "execution_count": 11,
     "metadata": {},
     "output_type": "execute_result"
    }
   ],
   "source": [
    "qml.eigvals(H)"
   ]
  },
  {
   "cell_type": "code",
   "execution_count": 20,
   "metadata": {},
   "outputs": [
    {
     "data": {
      "text/plain": [
       "tensor(0., requires_grad=True)"
      ]
     },
     "execution_count": 20,
     "metadata": {},
     "output_type": "execute_result"
    }
   ],
   "source": [
    "dev = qml.device('default.qubit', wires=N)\n",
    "  \n",
    "@qml.qnode(dev)\n",
    "def diagnose_phase_transition():\n",
    "    # string order parameter\n",
    "    O = qml.prod(qml.PauliZ(0), qml.PauliY(1), qml.PauliY(2), qml.PauliZ(3))\n",
    "    \n",
    "    return qml.expval(O)\n",
    "\n",
    "diagnose_phase_transition()\n"
   ]
  },
  {
   "cell_type": "code",
   "execution_count": null,
   "metadata": {},
   "outputs": [],
   "source": []
  }
 ],
 "metadata": {
  "kernelspec": {
   "display_name": "cpen400q",
   "language": "python",
   "name": "python3"
  },
  "language_info": {
   "codemirror_mode": {
    "name": "ipython",
    "version": 3
   },
   "file_extension": ".py",
   "mimetype": "text/x-python",
   "name": "python",
   "nbconvert_exporter": "python",
   "pygments_lexer": "ipython3",
   "version": "3.11.0"
  },
  "orig_nbformat": 4
 },
 "nbformat": 4,
 "nbformat_minor": 2
}
