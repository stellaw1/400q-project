{
 "cells": [
  {
   "cell_type": "code",
   "execution_count": 2,
   "metadata": {},
   "outputs": [],
   "source": [
    "import pennylane as qml\n",
    "from pennylane import numpy as np\n",
    "import matplotlib.pyplot as plt"
   ]
  },
  {
   "cell_type": "code",
   "execution_count": 6,
   "metadata": {},
   "outputs": [
    {
     "name": "stdout",
     "output_type": "stream",
     "text": [
      "-2.0\n",
      "0.0\n",
      "-2.0061590193707786\n",
      "0.0\n",
      "-2.0245236585456077\n",
      "0.0\n",
      "-2.054766677514629\n",
      "0.0\n",
      "-2.096374054419577\n",
      "0.0\n",
      "-2.1486857087689875\n",
      "0.0\n",
      "-2.210941970314473\n",
      "0.0\n",
      "-2.2823291916665847\n",
      "0.0\n",
      "-2.3620196240027935\n",
      "0.0\n",
      "-2.449202909360635\n",
      "0.0\n",
      "-2.5431085506270357\n",
      "0.0\n",
      "-2.6430201155741386\n",
      "0.0\n",
      "-2.748282660934309\n",
      "0.0\n",
      "-2.8583050675986725\n",
      "0.0\n",
      "-2.9725588566980106\n",
      "0.0\n",
      "-3.090574780783141\n",
      "0.0\n",
      "-3.2119381713689927\n",
      "0.0\n",
      "-3.3362837379016583\n",
      "0.0\n",
      "-3.4632902801934433\n",
      "0.0\n",
      "-3.592675600716428\n",
      "0.0\n",
      "-3.724191778237173\n",
      "0.0\n",
      "-3.8576208797911975\n",
      "0.0\n",
      "-3.992771133601089\n",
      "0.0\n",
      "-4.129473552456859\n",
      "0.0\n",
      "-4.2675789784805005\n",
      "0.0\n",
      "-4.406955511087231\n",
      "0.0\n",
      "-4.547486276817229\n",
      "0.0\n",
      "-4.689067500152387\n",
      "0.0\n",
      "-4.831606836874783\n",
      "0.0\n",
      "-4.975021934955701\n",
      "0.0\n",
      "-5.1192391917599505\n",
      "0.0\n",
      "-5.264192680137874\n",
      "0.0\n",
      "-5.409823219550594\n",
      "0.0\n",
      "-5.5560775716296265\n",
      "0.0\n",
      "-5.702907742472102\n",
      "0.0\n",
      "-5.850270376515614\n",
      "0.0\n",
      "-5.99812622904266\n",
      "0.0\n",
      "-6.146439706263156\n",
      "0.0\n",
      "-6.295178463549112\n",
      "0.0\n",
      "-6.444313053781782\n",
      "0.0\n"
     ]
    }
   ],
   "source": [
    "N = 4\n",
    "dev = qml.device('default.qubit', wires=N)\n",
    "\n",
    "@qml.qnode(dev)\n",
    "def diagnose_phase_transition(h, g):\n",
    "       # Construct Hamiltonian\n",
    "       coeffs = [-1, -1, -h, -h, -h, -h, -g, -g]\n",
    "       ops = [qml.PauliZ(0) @ qml.PauliX(1) @ qml.PauliZ(2), qml.PauliZ(1) @ qml.PauliX(2) @ qml.PauliZ(3), \n",
    "              qml.PauliX(0), qml.PauliX(1), qml.PauliX(2), qml.PauliX(3), \n",
    "              qml.PauliX(0) @ qml.PauliX(1) @ qml.PauliX(2), qml.PauliX(1) @ qml.PauliX(2) @ qml.PauliX(3)]\n",
    "\n",
    "       H = qml.Hamiltonian(coeffs, ops)\n",
    "       print(min(qml.eigvals(H)))\n",
    "       # return qml.expval(H)\n",
    "\n",
    "       # string order parameter\n",
    "       O = qml.prod(qml.PauliZ(0), qml.PauliY(1), qml.PauliY(2), qml.PauliZ(3))\n",
    "       return qml.expval(O)\n",
    "\n",
    "\n",
    "h = 0\n",
    "g = 0\n",
    "step = np.pi / 80\n",
    "\n",
    "while h < np.pi / 2:\n",
    "       print(diagnose_phase_transition(h, g))\n",
    "       h +=  step\n"
   ]
  },
  {
   "cell_type": "code",
   "execution_count": 20,
   "metadata": {},
   "outputs": [
    {
     "data": {
      "text/plain": [
       "tensor(0., requires_grad=True)"
      ]
     },
     "execution_count": 20,
     "metadata": {},
     "output_type": "execute_result"
    }
   ],
   "source": [
    "dev = qml.device('default.qubit', wires=N)\n",
    "  \n",
    "@qml.qnode(dev)\n",
    "def diagnose_phase_transition():\n",
    "    # string order parameter\n",
    "    O = qml.prod(qml.PauliZ(0), qml.PauliY(1), qml.PauliY(2), qml.PauliZ(3))\n",
    "    \n",
    "    return qml.expval(O)\n",
    "\n",
    "diagnose_phase_transition()\n"
   ]
  },
  {
   "cell_type": "code",
   "execution_count": null,
   "metadata": {},
   "outputs": [],
   "source": []
  }
 ],
 "metadata": {
  "kernelspec": {
   "display_name": "cpen400q",
   "language": "python",
   "name": "python3"
  },
  "language_info": {
   "codemirror_mode": {
    "name": "ipython",
    "version": 3
   },
   "file_extension": ".py",
   "mimetype": "text/x-python",
   "name": "python",
   "nbconvert_exporter": "python",
   "pygments_lexer": "ipython3",
   "version": "3.11.0"
  },
  "orig_nbformat": 4
 },
 "nbformat": 4,
 "nbformat_minor": 2
}
